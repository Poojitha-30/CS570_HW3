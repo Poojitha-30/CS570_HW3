{
  "cells": [
    {
      "cell_type": "code",
      "execution_count": null,
      "metadata": {
        "colab": {
          "base_uri": "https://localhost:8080/"
        },
        "id": "SGAhc66Ikjr5",
        "outputId": "2dd6bb48-9f32-4119-d461-038ba8f0dd5d"
      },
      "outputs": [
        {
          "name": "stdout",
          "output_type": "stream",
          "text": [
            "Original Tokens: ['NLP', 'techniques', 'are', 'used', 'in', 'virtual', 'assistants', 'like', 'Alexa', 'and', 'Siri', '.']\n",
            "Tokens Without Stopwords: ['NLP', 'techniques', 'used', 'virtual', 'assistants', 'like', 'Alexa', 'Siri']\n",
            "Stemmed Words: ['nlp', 'techniqu', 'use', 'virtual', 'assist', 'like', 'alexa', 'siri']\n",
            "\n",
            "Q1 Short Answers:\n",
            "1. Stemming vs Lemmatization:\n",
            "   - Stemming cuts off prefixes/suffixes (e.g., 'running' -> 'run'), but might result in non-words (e.g., 'studies' -> 'studi').\n",
            "   - Lemmatization uses vocabulary and rules to return the base form (e.g., 'running' -> 'run'), so it's more accurate.\n",
            "2. Removing stopwords:\n",
            "   - Useful to reduce noise and focus on important words (e.g., for classification).\n",
            "   - Can be harmful when stopwords carry meaning (e.g., in sentiment analysis).\n"
          ]
        },
        {
          "name": "stderr",
          "output_type": "stream",
          "text": [
            "[nltk_data] Downloading package punkt to /root/nltk_data...\n",
            "[nltk_data]   Package punkt is already up-to-date!\n",
            "[nltk_data] Downloading package punkt_tab to /root/nltk_data...\n",
            "[nltk_data]   Package punkt_tab is already up-to-date!\n",
            "[nltk_data] Downloading package stopwords to /root/nltk_data...\n",
            "[nltk_data]   Package stopwords is already up-to-date!\n",
            "[nltk_data] Downloading package wordnet to /root/nltk_data...\n",
            "[nltk_data]   Package wordnet is already up-to-date!\n",
            "[nltk_data] Downloading package omw-1.4 to /root/nltk_data...\n",
            "[nltk_data]   Package omw-1.4 is already up-to-date!\n"
          ]
        }
      ],
      "source": [
        "import nltk\n",
        "import string\n",
        "from nltk.corpus import stopwords\n",
        "from nltk.tokenize import word_tokenize\n",
        "from nltk.stem import PorterStemmer\n",
        "\n",
        "# Download necessary NLTK resources\n",
        "nltk.download('punkt')\n",
        "nltk.download('punkt_tab')\n",
        "nltk.download('stopwords')\n",
        "nltk.download('wordnet')\n",
        "nltk.download('omw-1.4')\n",
        "\n",
        "def nlp_pipeline(sentence):\n",
        "    # Tokenize the sentence\n",
        "    tokens = word_tokenize(sentence)\n",
        "    print(\"Original Tokens:\", tokens)\n",
        "\n",
        "    # Remove stopwords\n",
        "    stop_words = set(stopwords.words('english'))\n",
        "    tokens_no_stop = [word for word in tokens if word.lower() not in stop_words and word not in string.punctuation]\n",
        "    print(\"Tokens Without Stopwords:\", tokens_no_stop)\n",
        "\n",
        "    # Apply stemming\n",
        "    stemmer = PorterStemmer()\n",
        "    stemmed = [stemmer.stem(word) for word in tokens_no_stop]\n",
        "    print(\"Stemmed Words:\", stemmed)\n",
        "\n",
        "sentence = \"NLP techniques are used in virtual assistants like Alexa and Siri.\"\n",
        "nlp_pipeline(sentence)\n",
        "\n",
        "# --- Short Answer ---\n",
        "print(\"\\nQ1 Short Answers:\")\n",
        "print(\"1. Stemming vs Lemmatization:\")\n",
        "print(\"   - Stemming cuts off prefixes/suffixes (e.g., 'running' -> 'run'), but might result in non-words (e.g., 'studies' -> 'studi').\")\n",
        "print(\"   - Lemmatization uses vocabulary and rules to return the base form (e.g., 'running' -> 'run'), so it's more accurate.\")\n",
        "\n",
        "print(\"2. Removing stopwords:\")\n",
        "print(\"   - Useful to reduce noise and focus on important words (e.g., for classification).\")\n",
        "print(\"   - Can be harmful when stopwords carry meaning (e.g., in sentiment analysis).\")"
      ]
    }
  ],
  "metadata": {
    "colab": {
      "provenance": []
    },
    "kernelspec": {
      "display_name": "Python 3",
      "name": "python3"
    },
    "language_info": {
      "name": "python"
    }
  },
  "nbformat": 4,
  "nbformat_minor": 0
}
